{
 "cells": [
  {
   "cell_type": "code",
   "execution_count": 19,
   "metadata": {},
   "outputs": [],
   "source": [
    "import requests\n",
    "import pandas as pd\n",
    "from datetime import datetime, timedelta\n",
    "from dotenv import load_dotenv\n",
    "import os\n",
    "\n",
    "load_dotenv()\n",
    "KEY = os.getenv('API_KEY')\n",
    "\n",
    "if not KEY:\n",
    "    raise ValueError(\"API ключ не найден. Проверьте файл .env и убедитесь, что переменная API_KEY задана.\")\n",
    "\n",
    "url_history = \"https://api.apilayer.com/currency_data/historical\"\n",
    "\n",
    "headers = {\n",
    "    \"apikey\": KEY\n",
    "}\n",
    "\n",
    "start_date = datetime(2022, 1, 1)\n",
    "end_date = datetime(2022, 1, 7)"
   ]
  },
  {
   "cell_type": "code",
   "execution_count": 21,
   "metadata": {},
   "outputs": [],
   "source": [
    "data_list = []\n",
    "date_list = []\n",
    "current_date = start_date\n",
    "while current_date <= end_date:\n",
    "    date_list.append(current_date.strftime('%Y-%m-%d'))\n",
    "    current_date += timedelta(days=1)\n",
    "\n",
    "# Перебор дат и сбор данных\n",
    "for date_str in date_list:\n",
    "    # Параметры запроса\n",
    "    params = {\n",
    "        'date': date_str\n",
    "    }\n",
    "    \n",
    "    response = requests.get(url_history, headers=headers, params=params)\n",
    "    \n",
    "    # get 200\n",
    "    if response.status_code == 200:\n",
    "        data = response.json()\n",
    "        \n",
    "        # Проверяем наличие ключа 'quotes' в ответе\n",
    "        if 'quotes' in data:\n",
    "            quotes = data['quotes']\n",
    "            \n",
    "            # Если это первый запрос, сохраняем первые 10 валют\n",
    "            if len(data_list) == 0:\n",
    "                currencies = list(quotes.keys())[:10]\n",
    "            \n",
    "            rate_dict = {'date': date_str}\n",
    "            for currency in currencies:\n",
    "                rate_dict[currency] = quotes.get(currency, None)\n",
    "            \n",
    "            data_list.append(rate_dict)\n",
    "        else:\n",
    "            print(f\"В ответе на дату {date_str} отсутствует ключ 'quotes'.\")\n",
    "    else:\n",
    "        print(f\"Ошибка при получении данных на дату {date_str}: {response.status_code}\")\n",
    "        print(f\"Тело ответа: {response.text}\")\n",
    "\n"
   ]
  },
  {
   "cell_type": "code",
   "execution_count": 22,
   "metadata": {},
   "outputs": [
    {
     "name": "stdout",
     "output_type": "stream",
     "text": [
      "              USDAED      USDAFN      USDALL      USDAMD    USDANG  \\\n",
      "date                                                                 \n",
      "2022-01-01  3.673042  103.750404  106.650403  480.234325  1.802591   \n",
      "2022-01-02  3.672980  103.749983  106.650326  480.234325  1.802591   \n",
      "2022-01-03  3.673103  103.750299  106.249880  481.590005  1.802973   \n",
      "2022-01-04  3.673096  104.899369  105.874950  482.301630  1.801500   \n",
      "2022-01-05  3.673102  105.250158  106.902530  483.164239  1.802797   \n",
      "2022-01-06  3.673102  104.999962  107.350118  483.038449  1.802366   \n",
      "2022-01-07  3.673042  105.000368  107.000368  483.788207  1.802362   \n",
      "\n",
      "                USDAOA      USDARS    USDAUD  USDAWG    USDAZN  \n",
      "date                                                            \n",
      "2022-01-01  550.590403  102.689974  1.375800  1.8000  1.703970  \n",
      "2022-01-02  550.590435  102.664691  1.376179  1.8000  1.698647  \n",
      "2022-01-03  554.203977  102.958502  1.389502  1.8005  1.701522  \n",
      "2022-01-04  553.427992  103.104100  1.381105  1.8000  1.698131  \n",
      "2022-01-05  552.652983  103.102801  1.384754  1.8005  1.691373  \n",
      "2022-01-06  551.700853  103.228600  1.395982  1.8000  1.700773  \n",
      "2022-01-07  550.928041  103.292284  1.392651  1.8005  1.703970  \n"
     ]
    }
   ],
   "source": [
    "currency_df = pd.DataFrame(data_list)\n",
    "\n",
    "# Устанавливаем дату как индекс\n",
    "currency_df.set_index('date', inplace=True)\n",
    "print(currency_df)"
   ]
  }
 ],
 "metadata": {
  "kernelspec": {
   "display_name": "Python 3",
   "language": "python",
   "name": "python3"
  },
  "language_info": {
   "codemirror_mode": {
    "name": "ipython",
    "version": 3
   },
   "file_extension": ".py",
   "mimetype": "text/x-python",
   "name": "python",
   "nbconvert_exporter": "python",
   "pygments_lexer": "ipython3",
   "version": "3.11.4"
  }
 },
 "nbformat": 4,
 "nbformat_minor": 2
}
